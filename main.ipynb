{
 "cells": [
  {
   "cell_type": "code",
   "execution_count": 3,
   "metadata": {},
   "outputs": [],
   "source": [
    "import numpy as np\n",
    "import gymnasium"
   ]
  },
  {
   "cell_type": "code",
   "execution_count": 7,
   "metadata": {},
   "outputs": [],
   "source": [
    "# create an agent and an environment from scratch without using any pre-existing code\n",
    "class Agent:\n",
    "    def __init__(self, env):\n",
    "        self.env = env\n",
    "        self.Q = np.zeros((env.observation_space.n, env.action_space.n))\n",
    "        self.alpha = 0.1\n",
    "        self.gamma = 0.6\n",
    "        self.epsilon = 0.1\n",
    "\n",
    "    def train(self, num_episodes):\n",
    "        for i in range(num_episodes):\n",
    "            state = self.env.reset()\n",
    "            done = False\n",
    "            while not done:\n",
    "                if np.random.random() < self.epsilon:\n",
    "                    action = self.env.action_space.sample()\n",
    "                else:\n",
    "                    action = np.argmax(self.Q[state])\n",
    "                next_state, reward, done, _ = self.env.step(action)\n",
    "                self.Q[state, action] += self.alpha * (reward + self.gamma * np.max(self.Q[next_state]) - self.Q[state, action])\n",
    "                state = next_state\n",
    "\n",
    "    def play(self):\n",
    "        state = self.env.reset()\n",
    "        done = False\n",
    "        while not done:\n",
    "            action = np.argmax(self.Q[state])\n",
    "            next_state, reward, done, _ = self.env.step(action)\n",
    "            state = next_state\n",
    "            self.env.render()"
   ]
  },
  {
   "cell_type": "code",
   "execution_count": 10,
   "metadata": {},
   "outputs": [
    {
     "ename": "IndexError",
     "evalue": "only integers, slices (`:`), ellipsis (`...`), numpy.newaxis (`None`) and integer or boolean arrays are valid indices",
     "output_type": "error",
     "traceback": [
      "\u001b[0;31m---------------------------------------------------------------------------\u001b[0m",
      "\u001b[0;31mIndexError\u001b[0m                                Traceback (most recent call last)",
      "Cell \u001b[0;32mIn[10], line 8\u001b[0m\n\u001b[1;32m      5\u001b[0m agent \u001b[39m=\u001b[39m Agent(env)  \n\u001b[1;32m      7\u001b[0m \u001b[39m# train the agent\u001b[39;00m\n\u001b[0;32m----> 8\u001b[0m agent\u001b[39m.\u001b[39;49mtrain(\u001b[39m1000\u001b[39;49m)\n\u001b[1;32m     10\u001b[0m \u001b[39m# play the game\u001b[39;00m\n\u001b[1;32m     11\u001b[0m agent\u001b[39m.\u001b[39mplay()\n",
      "Cell \u001b[0;32mIn[7], line 18\u001b[0m, in \u001b[0;36mAgent.train\u001b[0;34m(self, num_episodes)\u001b[0m\n\u001b[1;32m     16\u001b[0m     action \u001b[39m=\u001b[39m \u001b[39mself\u001b[39m\u001b[39m.\u001b[39menv\u001b[39m.\u001b[39maction_space\u001b[39m.\u001b[39msample()\n\u001b[1;32m     17\u001b[0m \u001b[39melse\u001b[39;00m:\n\u001b[0;32m---> 18\u001b[0m     action \u001b[39m=\u001b[39m np\u001b[39m.\u001b[39margmax(\u001b[39mself\u001b[39;49m\u001b[39m.\u001b[39;49mQ[state])\n\u001b[1;32m     19\u001b[0m next_state, reward, done, _ \u001b[39m=\u001b[39m \u001b[39mself\u001b[39m\u001b[39m.\u001b[39menv\u001b[39m.\u001b[39mstep(action)\n\u001b[1;32m     20\u001b[0m \u001b[39mself\u001b[39m\u001b[39m.\u001b[39mQ[state, action] \u001b[39m+\u001b[39m\u001b[39m=\u001b[39m \u001b[39mself\u001b[39m\u001b[39m.\u001b[39malpha \u001b[39m*\u001b[39m (reward \u001b[39m+\u001b[39m \u001b[39mself\u001b[39m\u001b[39m.\u001b[39mgamma \u001b[39m*\u001b[39m np\u001b[39m.\u001b[39mmax(\u001b[39mself\u001b[39m\u001b[39m.\u001b[39mQ[next_state]) \u001b[39m-\u001b[39m \u001b[39mself\u001b[39m\u001b[39m.\u001b[39mQ[state, action])\n",
      "\u001b[0;31mIndexError\u001b[0m: only integers, slices (`:`), ellipsis (`...`), numpy.newaxis (`None`) and integer or boolean arrays are valid indices"
     ]
    }
   ],
   "source": [
    "# create an environment\n",
    "env = gymnasium.make('FrozenLake-v1')\n",
    "\n",
    "# create an agent\n",
    "agent = Agent(env)  \n",
    "\n",
    "# train the agent\n",
    "agent.train(1000)\n",
    "\n",
    "# play the game\n",
    "agent.play()\n"
   ]
  },
  {
   "cell_type": "code",
   "execution_count": null,
   "metadata": {},
   "outputs": [],
   "source": []
  }
 ],
 "metadata": {
  "kernelspec": {
   "display_name": "Gym",
   "language": "python",
   "name": "python3"
  },
  "language_info": {
   "codemirror_mode": {
    "name": "ipython",
    "version": 3
   },
   "file_extension": ".py",
   "mimetype": "text/x-python",
   "name": "python",
   "nbconvert_exporter": "python",
   "pygments_lexer": "ipython3",
   "version": "3.10.9"
  },
  "orig_nbformat": 4
 },
 "nbformat": 4,
 "nbformat_minor": 2
}
